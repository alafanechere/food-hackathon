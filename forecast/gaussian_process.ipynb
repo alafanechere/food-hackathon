{
 "cells": [
  {
   "cell_type": "code",
   "execution_count": 103,
   "metadata": {},
   "outputs": [],
   "source": [
    "import pandas as pd\n",
    "import numpy as np\n",
    "from sklearn.gaussian_process import GaussianProcessRegressor as gp\n",
    "from sklearn.preprocessing import StandardScaler as ss\n",
    "from sklearn.model_selection import train_test_split\n",
    "from sklearn.model_selection import RandomizedSearchCV\n",
    "from sklearn.gaussian_process.kernels import RBF\n",
    "from sklearn.gaussian_process.kernels import Matern\n",
    "from sklearn.gaussian_process.kernels import WhiteKernel as WK\n",
    "from sklearn.gaussian_process.kernels import ConstantKernel as C\n",
    "from sklearn.gaussian_process.kernels import ExpSineSquared as ESS"
   ]
  },
  {
   "cell_type": "code",
   "execution_count": 2,
   "metadata": {},
   "outputs": [],
   "source": [
    "x = pd.read_csv('features.csv', encoding=\"latin1\")"
   ]
  },
  {
   "cell_type": "code",
   "execution_count": 3,
   "metadata": {},
   "outputs": [
    {
     "name": "stdout",
     "output_type": "stream",
     "text": [
      "set([u'HofKonditorei', u'Trockenprodukte', u'Erlebnis', u'Non-Food', u'Getr\\xe4nke', u'Obst', u'HofChuchi', u'Frischprodukte', u'HofB\\xe4ckerei', u'Gem\\xfcse'])\n"
     ]
    }
   ],
   "source": [
    "print(set(x['article_group0_idx']))"
   ]
  },
  {
   "cell_type": "code",
   "execution_count": 4,
   "metadata": {},
   "outputs": [],
   "source": [
    "x_juck_res = x[(x['article_group0_idx'] == 'HofChuchi') & (x['shop_idx'] == u'Juckerhof Seegräben') & (x['is_resto'] == True) & (~ x['temperature'].isna())]      "
   ]
  },
  {
   "cell_type": "code",
   "execution_count": 5,
   "metadata": {},
   "outputs": [
    {
     "data": {
      "text/plain": [
       "Index([u'article_group0_idx', u'month_idx', u'hour_idx', u'mday_idx',\n",
       "       u'year_idx', u'is_resto_idx', u'shop_idx', u'temperature',\n",
       "       u'precipitation', u'snowfraction', u'sealevelpressure',\n",
       "       u'winddirection', u'windspeed', u'relativehumidity', u'sunshinetime',\n",
       "       u'totalcloudcover', u'lowclouds', u'midclouds', u'highclouds',\n",
       "       u'wday_x', u'month', u'hour', u'mday', u'year', u'month.1', u'hour.1',\n",
       "       u'mday.1', u'year.1', u'is_resto', u'price', u'count',\n",
       "       u'n_transactions'],\n",
       "      dtype='object')"
      ]
     },
     "execution_count": 5,
     "metadata": {},
     "output_type": "execute_result"
    }
   ],
   "source": [
    "x1 = x_juck_res.fillna(0)\n",
    "x1.columns"
   ]
  },
  {
   "cell_type": "code",
   "execution_count": 82,
   "metadata": {},
   "outputs": [],
   "source": [
    "\n",
    "\n",
    "y = x1['price']\n",
    "X = x1[['month', 'hour.1', 'mday', 'wday_x', 'temperature', 'precipitation', 'sunshinetime']]\n",
    "\n",
    "one_hot = pd.get_dummies(X['wday_x'], prefix='day')\n",
    "X = X.drop('wday_x', axis=1)\n",
    "X = X.join(one_hot)\n",
    "\n",
    "one_hot = pd.get_dummies(X['month'], prefix='month')\n",
    "X = X.drop('month', axis=1)\n",
    "X = X.join(one_hot)\n",
    "\n",
    "one_hot = pd.get_dummies(X['hour.1'], prefix='hour')\n",
    "X = X.drop('hour.1', axis=1)\n",
    "X = X.join(one_hot)\n",
    "\n"
   ]
  },
  {
   "cell_type": "code",
   "execution_count": 92,
   "metadata": {},
   "outputs": [],
   "source": [
    "np.random.seed(1234)\n",
    "X_train, X_test, y_train, y_test = train_test_split(X, y, test_size=0.2, random_state=1)\n",
    "normalizer = ss()\n",
    "X_train = normalizer.fit_transform(X_train)\n",
    "X_test = normalizer.transform(X_test)"
   ]
  },
  {
   "cell_type": "code",
   "execution_count": 105,
   "metadata": {},
   "outputs": [
    {
     "name": "stdout",
     "output_type": "stream",
     "text": [
      "Fitting 10 folds for each of 10 candidates, totalling 100 fits\n",
      "[CV] kernel=Matern(length_scale=100, nu=1.5) + WhiteKernel(noise_level=1) \n",
      "[CV] kernel=Matern(length_scale=100, nu=1.5) + WhiteKernel(noise_level=1) \n",
      "[CV] kernel=Matern(length_scale=100, nu=1.5) + WhiteKernel(noise_level=1) \n",
      "[CV] kernel=Matern(length_scale=100, nu=1.5) + WhiteKernel(noise_level=1) \n",
      "[CV]  kernel=Matern(length_scale=100, nu=1.5) + WhiteKernel(noise_level=1), score=0.298708472478, total=   3.5s\n",
      "[CV] kernel=Matern(length_scale=100, nu=1.5) + WhiteKernel(noise_level=1) \n",
      "[CV]  kernel=Matern(length_scale=100, nu=1.5) + WhiteKernel(noise_level=1), score=0.249039258855, total=   3.5s\n",
      "[CV] kernel=Matern(length_scale=100, nu=1.5) + WhiteKernel(noise_level=1) \n",
      "[CV]  kernel=Matern(length_scale=100, nu=1.5) + WhiteKernel(noise_level=1), score=0.331981491178, total=   3.6s\n",
      "[CV] kernel=Matern(length_scale=100, nu=1.5) + WhiteKernel(noise_level=1) \n",
      "[CV]  kernel=Matern(length_scale=100, nu=1.5) + WhiteKernel(noise_level=1), score=0.271696788789, total=   3.6s\n",
      "[Parallel(n_jobs=4)]: Done   1 tasks      | elapsed:    4.2s\n",
      "[Parallel(n_jobs=4)]: Done   2 tasks      | elapsed:    4.2s\n",
      "[Parallel(n_jobs=4)]: Done   3 tasks      | elapsed:    4.3s\n",
      "[CV] kernel=Matern(length_scale=100, nu=1.5) + WhiteKernel(noise_level=1) \n",
      "[Parallel(n_jobs=4)]: Done   4 tasks      | elapsed:    4.4s\n",
      "[CV]  kernel=Matern(length_scale=100, nu=1.5) + WhiteKernel(noise_level=1), score=0.288610159682, total=   3.7s\n",
      "[CV] kernel=Matern(length_scale=100, nu=1.5) + WhiteKernel(noise_level=1) \n",
      "[CV]  kernel=Matern(length_scale=100, nu=1.5) + WhiteKernel(noise_level=1), score=0.273643827024, total=   3.7s\n",
      "[CV] kernel=Matern(length_scale=100, nu=1.5) + WhiteKernel(noise_level=1) \n",
      "[Parallel(n_jobs=4)]: Done   5 tasks      | elapsed:    8.5s\n",
      "[Parallel(n_jobs=4)]: Done   6 tasks      | elapsed:    8.7s\n",
      "[CV]  kernel=Matern(length_scale=100, nu=1.5) + WhiteKernel(noise_level=1), score=0.30018695421, total=   3.7s\n",
      "[CV] kernel=Matern(length_scale=1.37, nu=1.5) + WhiteKernel(noise_level=1) \n",
      "[CV]  kernel=Matern(length_scale=100, nu=1.5) + WhiteKernel(noise_level=1), score=0.302903767554, total=   3.7s\n",
      "[CV] kernel=Matern(length_scale=1.37, nu=1.5) + WhiteKernel(noise_level=1) \n",
      "[Parallel(n_jobs=4)]: Done   7 tasks      | elapsed:    8.8s\n",
      "[Parallel(n_jobs=4)]: Done   8 tasks      | elapsed:    8.8s\n",
      "[CV]  kernel=Matern(length_scale=1.37, nu=1.5) + WhiteKernel(noise_level=1), score=0.395522410472, total=   4.1s\n",
      "[CV] kernel=Matern(length_scale=1.37, nu=1.5) + WhiteKernel(noise_level=1) \n",
      "[CV]  kernel=Matern(length_scale=100, nu=1.5) + WhiteKernel(noise_level=1), score=0.21689249011, total=   4.2s\n",
      "[CV]  kernel=Matern(length_scale=100, nu=1.5) + WhiteKernel(noise_level=1), score=0.256904351449, total=   4.2s\n",
      "[CV] kernel=Matern(length_scale=1.37, nu=1.5) + WhiteKernel(noise_level=1) \n",
      "[CV] kernel=Matern(length_scale=1.37, nu=1.5) + WhiteKernel(noise_level=1) \n",
      "[Parallel(n_jobs=4)]: Done   9 tasks      | elapsed:   13.5s\n",
      "[Parallel(n_jobs=4)]: Done  10 tasks      | elapsed:   13.6s\n",
      "[Parallel(n_jobs=4)]: Done  11 tasks      | elapsed:   13.6s\n",
      "[CV]  kernel=Matern(length_scale=1.37, nu=1.5) + WhiteKernel(noise_level=1), score=0.383242243308, total=   4.1s\n",
      "[CV] kernel=Matern(length_scale=1.37, nu=1.5) + WhiteKernel(noise_level=1) \n",
      "[Parallel(n_jobs=4)]: Done  12 tasks      | elapsed:   13.8s\n",
      "[CV]  kernel=Matern(length_scale=1.37, nu=1.5) + WhiteKernel(noise_level=1), score=0.37765121033, total=   3.8s\n",
      "[CV] kernel=Matern(length_scale=1.37, nu=1.5) + WhiteKernel(noise_level=1) \n",
      "[CV]  kernel=Matern(length_scale=1.37, nu=1.5) + WhiteKernel(noise_level=1), score=0.359270814775, total=   3.9s\n",
      "[CV] kernel=Matern(length_scale=1.37, nu=1.5) + WhiteKernel(noise_level=1) \n",
      "[CV]  kernel=Matern(length_scale=1.37, nu=1.5) + WhiteKernel(noise_level=1), score=0.360909333384, total=   3.8s\n",
      "[CV] kernel=Matern(length_scale=1.37, nu=1.5) + WhiteKernel(noise_level=1) \n",
      "[Parallel(n_jobs=4)]: Done  13 tasks      | elapsed:   18.2s\n",
      "[Parallel(n_jobs=4)]: Done  14 tasks      | elapsed:   18.3s\n",
      "[Parallel(n_jobs=4)]: Done  15 tasks      | elapsed:   18.3s\n",
      "[CV]  kernel=Matern(length_scale=1.37, nu=1.5) + WhiteKernel(noise_level=1), score=0.43006316133, total=   4.1s\n",
      "[CV] kernel=Matern(length_scale=1.37, nu=1.5) + WhiteKernel(noise_level=1) \n",
      "[Parallel(n_jobs=4)]: Done  16 tasks      | elapsed:   18.6s\n",
      "[CV]  kernel=Matern(length_scale=1.37, nu=1.5) + WhiteKernel(noise_level=1), score=0.30087859519, total=   3.4s\n",
      "[CV] kernel=Matern(length_scale=9.24, nu=1.5) + WhiteKernel(noise_level=1) \n",
      "[CV]  kernel=Matern(length_scale=1.37, nu=1.5) + WhiteKernel(noise_level=1), score=0.398551454083, total=   3.5s\n",
      "[CV] kernel=Matern(length_scale=9.24, nu=1.5) + WhiteKernel(noise_level=1) \n",
      "[Parallel(n_jobs=4)]: Done  17 tasks      | elapsed:   22.7s\n",
      "[Parallel(n_jobs=4)]: Done  18 tasks      | elapsed:   22.8s\n",
      "[CV]  kernel=Matern(length_scale=1.37, nu=1.5) + WhiteKernel(noise_level=1), score=0.374785540339, total=   3.9s\n",
      "[CV] kernel=Matern(length_scale=9.24, nu=1.5) + WhiteKernel(noise_level=1) \n",
      "[CV]  kernel=Matern(length_scale=1.37, nu=1.5) + WhiteKernel(noise_level=1), score=0.332335636142, total=   3.8s\n",
      "[CV] kernel=Matern(length_scale=9.24, nu=1.5) + WhiteKernel(noise_level=1) \n",
      "[Parallel(n_jobs=4)]: Done  19 tasks      | elapsed:   23.0s\n",
      "[Parallel(n_jobs=4)]: Done  20 tasks      | elapsed:   23.1s\n",
      "[CV]  kernel=Matern(length_scale=9.24, nu=1.5) + WhiteKernel(noise_level=1), score=0.560864651454, total=   3.2s\n",
      "[CV] kernel=Matern(length_scale=9.24, nu=1.5) + WhiteKernel(noise_level=1) \n",
      "[Parallel(n_jobs=4)]: Done  21 tasks      | elapsed:   27.2s\n",
      "[CV]  kernel=Matern(length_scale=9.24, nu=1.5) + WhiteKernel(noise_level=1), score=0.606124952829, total=   3.4s\n",
      "[CV] kernel=Matern(length_scale=9.24, nu=1.5) + WhiteKernel(noise_level=1) \n",
      "[Parallel(n_jobs=4)]: Done  22 tasks      | elapsed:   27.6s\n",
      "[CV]  kernel=Matern(length_scale=9.24, nu=1.5) + WhiteKernel(noise_level=1), score=0.600806958559, total=   4.1s\n",
      "[CV] kernel=Matern(length_scale=9.24, nu=1.5) + WhiteKernel(noise_level=1) \n",
      "[Parallel(n_jobs=4)]: Done  23 tasks      | elapsed:   28.4s\n",
      "[CV]  kernel=Matern(length_scale=9.24, nu=1.5) + WhiteKernel(noise_level=1), score=0.605675222696, total=   4.6s\n",
      "[CV] kernel=Matern(length_scale=9.24, nu=1.5) + WhiteKernel(noise_level=1) \n",
      "[Parallel(n_jobs=4)]: Done  24 tasks      | elapsed:   29.3s\n",
      "[CV]  kernel=Matern(length_scale=9.24, nu=1.5) + WhiteKernel(noise_level=1), score=0.601780165768, total=   3.8s\n",
      "[CV] kernel=Matern(length_scale=9.24, nu=1.5) + WhiteKernel(noise_level=1) \n",
      "[Parallel(n_jobs=4)]: Done  25 tasks      | elapsed:   32.2s\n",
      "[CV]  kernel=Matern(length_scale=9.24, nu=1.5) + WhiteKernel(noise_level=1), score=0.6400218042, total=   3.7s\n",
      "[CV] kernel=Matern(length_scale=9.24, nu=1.5) + WhiteKernel(noise_level=1) \n",
      "[Parallel(n_jobs=4)]: Done  26 tasks      | elapsed:   32.6s\n",
      "[CV]  kernel=Matern(length_scale=9.24, nu=1.5) + WhiteKernel(noise_level=1), score=0.582415686809, total=   3.7s\n",
      "[CV] kernel=Matern(length_scale=0.329, nu=1.5) + WhiteKernel(noise_level=1) \n",
      "[Parallel(n_jobs=4)]: Done  27 tasks      | elapsed:   33.1s\n",
      "[CV]  kernel=Matern(length_scale=9.24, nu=1.5) + WhiteKernel(noise_level=1), score=0.537164566749, total=   3.9s\n",
      "[CV] kernel=Matern(length_scale=0.329, nu=1.5) + WhiteKernel(noise_level=1) \n",
      "[Parallel(n_jobs=4)]: Done  28 tasks      | elapsed:   34.5s\n",
      "[CV]  kernel=Matern(length_scale=9.24, nu=1.5) + WhiteKernel(noise_level=1), score=0.491466795885, total=   3.9s\n",
      "[CV] kernel=Matern(length_scale=0.329, nu=1.5) + WhiteKernel(noise_level=1) \n",
      "[CV]  kernel=Matern(length_scale=9.24, nu=1.5) + WhiteKernel(noise_level=1), score=0.509734165432, total=   3.6s\n",
      "[CV] kernel=Matern(length_scale=0.329, nu=1.5) + WhiteKernel(noise_level=1) \n",
      "[Parallel(n_jobs=4)]: Done  29 tasks      | elapsed:   37.3s\n",
      "[Parallel(n_jobs=4)]: Done  30 tasks      | elapsed:   37.4s\n",
      "[CV]  kernel=Matern(length_scale=0.329, nu=1.5) + WhiteKernel(noise_level=1), score=0.0050305830061, total=   4.0s\n",
      "[CV] kernel=Matern(length_scale=0.329, nu=1.5) + WhiteKernel(noise_level=1) \n",
      "[Parallel(n_jobs=4)]: Done  31 tasks      | elapsed:   38.2s\n",
      "[CV]  kernel=Matern(length_scale=0.329, nu=1.5) + WhiteKernel(noise_level=1), score=0.00278845371605, total=   4.3s\n"
     ]
    },
    {
     "name": "stdout",
     "output_type": "stream",
     "text": [
      "[CV] kernel=Matern(length_scale=0.329, nu=1.5) + WhiteKernel(noise_level=1) \n",
      "[Parallel(n_jobs=4)]: Done  32 tasks      | elapsed:   40.2s\n",
      "[CV]  kernel=Matern(length_scale=0.329, nu=1.5) + WhiteKernel(noise_level=1), score=0.00123688787097, total=   3.8s\n",
      "[CV] kernel=Matern(length_scale=0.329, nu=1.5) + WhiteKernel(noise_level=1) \n",
      "[CV]  kernel=Matern(length_scale=0.329, nu=1.5) + WhiteKernel(noise_level=1), score=0.00442319042802, total=   4.4s\n",
      "[CV]  kernel=Matern(length_scale=0.329, nu=1.5) + WhiteKernel(noise_level=1), score=0.00320164662788, total=   3.7s\n",
      "[Parallel(n_jobs=4)]: Done  33 tasks      | elapsed:   42.5s\n",
      "[Parallel(n_jobs=4)]: Done  34 tasks      | elapsed:   42.6s\n",
      "[Parallel(n_jobs=4)]: Done  35 tasks      | elapsed:   42.7s\n",
      "[CV] kernel=Matern(length_scale=0.329, nu=1.5) + WhiteKernel(noise_level=1) \n",
      "[CV] kernel=Matern(length_scale=0.329, nu=1.5) + WhiteKernel(noise_level=1) \n",
      "[CV]  kernel=Matern(length_scale=0.329, nu=1.5) + WhiteKernel(noise_level=1), score=0.00338380123495, total=   3.5s\n",
      "[CV] kernel=Matern(length_scale=0.329, nu=1.5) + WhiteKernel(noise_level=1) \n",
      "[Parallel(n_jobs=4)]: Done  36 tasks      | elapsed:   44.9s\n",
      "[CV]  kernel=Matern(length_scale=0.329, nu=1.5) + WhiteKernel(noise_level=1), score=0.00428248610679, total=   3.8s\n",
      "[CV] kernel=Matern(length_scale=0.259, nu=1.5) + WhiteKernel(noise_level=1) \n",
      "[CV]  kernel=Matern(length_scale=0.329, nu=1.5) + WhiteKernel(noise_level=1), score=-0.00276062338157, total=   3.7s\n",
      "[Parallel(n_jobs=4)]: Done  37 tasks      | elapsed:   47.4s\n",
      "[Parallel(n_jobs=4)]: Done  38 tasks      | elapsed:   47.5s\n",
      "[CV]  kernel=Matern(length_scale=0.329, nu=1.5) + WhiteKernel(noise_level=1), score=-0.00266676333938, total=   3.8s\n",
      "[CV] kernel=Matern(length_scale=0.259, nu=1.5) + WhiteKernel(noise_level=1) \n",
      "[CV] kernel=Matern(length_scale=0.259, nu=1.5) + WhiteKernel(noise_level=1) \n",
      "[Parallel(n_jobs=4)]: Done  39 tasks      | elapsed:   47.6s\n",
      "[CV]  kernel=Matern(length_scale=0.329, nu=1.5) + WhiteKernel(noise_level=1), score=-0.000407425715871, total=   4.0s\n",
      "[CV] kernel=Matern(length_scale=0.259, nu=1.5) + WhiteKernel(noise_level=1) \n",
      "[Parallel(n_jobs=4)]: Done  40 tasks      | elapsed:   50.3s\n",
      "[CV]  kernel=Matern(length_scale=0.259, nu=1.5) + WhiteKernel(noise_level=1), score=-0.00254257877492, total=   4.2s\n",
      "[CV]  kernel=Matern(length_scale=0.259, nu=1.5) + WhiteKernel(noise_level=1), score=-0.00085996216319, total=   4.2s\n",
      "[CV] kernel=Matern(length_scale=0.259, nu=1.5) + WhiteKernel(noise_level=1) \n",
      "[CV] kernel=Matern(length_scale=0.259, nu=1.5) + WhiteKernel(noise_level=1) \n",
      "[Parallel(n_jobs=4)]: Done  41 tasks      | elapsed:   52.9s\n",
      "[Parallel(n_jobs=4)]: Done  42 tasks      | elapsed:   52.9s\n",
      "[CV]  kernel=Matern(length_scale=0.259, nu=1.5) + WhiteKernel(noise_level=1), score=-0.0016985624754, total=   4.7s\n",
      "[CV] kernel=Matern(length_scale=0.259, nu=1.5) + WhiteKernel(noise_level=1) \n",
      "[Parallel(n_jobs=4)]: Done  43 tasks      | elapsed:   53.2s\n",
      "[CV]  kernel=Matern(length_scale=0.259, nu=1.5) + WhiteKernel(noise_level=1), score=0.00118836591382, total=   4.2s\n",
      "[CV] kernel=Matern(length_scale=0.259, nu=1.5) + WhiteKernel(noise_level=1) \n",
      "[Parallel(n_jobs=4)]: Done  44 tasks      | elapsed:   56.0s\n",
      "[CV]  kernel=Matern(length_scale=0.259, nu=1.5) + WhiteKernel(noise_level=1), score=-0.000218662372538, total=   4.0s\n",
      "[CV] kernel=Matern(length_scale=0.259, nu=1.5) + WhiteKernel(noise_level=1) \n",
      "[Parallel(n_jobs=4)]: Done  45 tasks      | elapsed:   57.9s\n",
      "[CV]  kernel=Matern(length_scale=0.259, nu=1.5) + WhiteKernel(noise_level=1), score=-0.00185429236894, total=   3.9s\n",
      "[CV] kernel=Matern(length_scale=0.259, nu=1.5) + WhiteKernel(noise_level=1) \n",
      "[Parallel(n_jobs=4)]: Done  46 tasks      | elapsed:   58.2s\n",
      "[CV]  kernel=Matern(length_scale=0.259, nu=1.5) + WhiteKernel(noise_level=1), score=-0.00212637460221, total=   4.5s\n",
      "[CV] kernel=Matern(length_scale=1.74, nu=1.5) + WhiteKernel(noise_level=1) \n",
      "[Parallel(n_jobs=4)]: Done  47 tasks      | elapsed:   58.8s\n",
      "[CV]  kernel=Matern(length_scale=0.259, nu=1.5) + WhiteKernel(noise_level=1), score=-0.0087420209432, total=   3.6s\n",
      "[CV] kernel=Matern(length_scale=1.74, nu=1.5) + WhiteKernel(noise_level=1) \n",
      "[Parallel(n_jobs=4)]: Done  48 tasks      | elapsed:  1.0min\n",
      "[CV]  kernel=Matern(length_scale=0.259, nu=1.5) + WhiteKernel(noise_level=1), score=-0.00468864992422, total=   3.4s\n",
      "[CV] kernel=Matern(length_scale=1.74, nu=1.5) + WhiteKernel(noise_level=1) \n",
      "[Parallel(n_jobs=4)]: Done  49 tasks      | elapsed:  1.0min\n",
      "[CV]  kernel=Matern(length_scale=0.259, nu=1.5) + WhiteKernel(noise_level=1), score=-0.00412475622255, total=   3.9s\n",
      "[CV] kernel=Matern(length_scale=1.74, nu=1.5) + WhiteKernel(noise_level=1) \n",
      "[Parallel(n_jobs=4)]: Done  50 tasks      | elapsed:  1.1min\n",
      "[CV]  kernel=Matern(length_scale=1.74, nu=1.5) + WhiteKernel(noise_level=1), score=0.512324769989, total=   4.0s\n",
      "[CV] kernel=Matern(length_scale=1.74, nu=1.5) + WhiteKernel(noise_level=1) \n",
      "[Parallel(n_jobs=4)]: Done  51 tasks      | elapsed:  1.1min\n",
      "[CV]  kernel=Matern(length_scale=1.74, nu=1.5) + WhiteKernel(noise_level=1), score=0.501908792833, total=   3.3s\n",
      "[CV] kernel=Matern(length_scale=1.74, nu=1.5) + WhiteKernel(noise_level=1) \n",
      "[Parallel(n_jobs=4)]: Done  52 tasks      | elapsed:  1.1min\n",
      "[CV]  kernel=Matern(length_scale=1.74, nu=1.5) + WhiteKernel(noise_level=1), score=0.510902768272, total=   3.7s\n",
      "[CV] kernel=Matern(length_scale=1.74, nu=1.5) + WhiteKernel(noise_level=1) \n",
      "[Parallel(n_jobs=4)]: Done  53 tasks      | elapsed:  1.1min\n",
      "[CV]  kernel=Matern(length_scale=1.74, nu=1.5) + WhiteKernel(noise_level=1), score=0.504706719265, total=   3.9s\n",
      "[CV] kernel=Matern(length_scale=1.74, nu=1.5) + WhiteKernel(noise_level=1) \n",
      "[Parallel(n_jobs=4)]: Done  54 tasks      | elapsed:  1.1min\n",
      "[CV]  kernel=Matern(length_scale=1.74, nu=1.5) + WhiteKernel(noise_level=1), score=0.483538847119, total=   4.3s\n",
      "[CV] kernel=Matern(length_scale=1.74, nu=1.5) + WhiteKernel(noise_level=1) \n",
      "[Parallel(n_jobs=4)]: Done  55 tasks      | elapsed:  1.2min\n",
      "[CV]  kernel=Matern(length_scale=1.74, nu=1.5) + WhiteKernel(noise_level=1), score=0.56602674975, total=   4.2s\n",
      "[CV] kernel=Matern(length_scale=1.74, nu=1.5) + WhiteKernel(noise_level=1) \n",
      "[Parallel(n_jobs=4)]: Done  56 tasks      | elapsed:  1.2min\n",
      "[CV]  kernel=Matern(length_scale=1.74, nu=1.5) + WhiteKernel(noise_level=1), score=0.50607409542, total=   4.1s\n",
      "[CV] kernel=Matern(length_scale=0.127, nu=1.5) + WhiteKernel(noise_level=1) \n",
      "[Parallel(n_jobs=4)]: Done  57 tasks      | elapsed:  1.2min\n",
      "[CV]  kernel=Matern(length_scale=1.74, nu=1.5) + WhiteKernel(noise_level=1), score=0.478439173764, total=   4.1s\n",
      "[CV] kernel=Matern(length_scale=0.127, nu=1.5) + WhiteKernel(noise_level=1) \n",
      "[Parallel(n_jobs=4)]: Done  58 tasks      | elapsed:  1.2min\n",
      "[CV]  kernel=Matern(length_scale=1.74, nu=1.5) + WhiteKernel(noise_level=1), score=0.433015441785, total=   3.6s\n",
      "[CV] kernel=Matern(length_scale=0.127, nu=1.5) + WhiteKernel(noise_level=1) \n",
      "[Parallel(n_jobs=4)]: Done  59 tasks      | elapsed:  1.2min\n",
      "[CV]  kernel=Matern(length_scale=1.74, nu=1.5) + WhiteKernel(noise_level=1), score=0.42237032663, total=   4.0s\n",
      "[CV] kernel=Matern(length_scale=0.127, nu=1.5) + WhiteKernel(noise_level=1) \n",
      "[Parallel(n_jobs=4)]: Done  60 tasks      | elapsed:  1.3min\n",
      "[CV]  kernel=Matern(length_scale=0.127, nu=1.5) + WhiteKernel(noise_level=1), score=-0.00315157343365, total=   3.8s\n",
      "[CV] kernel=Matern(length_scale=0.127, nu=1.5) + WhiteKernel(noise_level=1) \n",
      "[Parallel(n_jobs=4)]: Done  61 tasks      | elapsed:  1.3min\n",
      "[CV]  kernel=Matern(length_scale=0.127, nu=1.5) + WhiteKernel(noise_level=1), score=-0.0036474769188, total=   3.8s\n",
      "[CV] kernel=Matern(length_scale=0.127, nu=1.5) + WhiteKernel(noise_level=1) \n",
      "[Parallel(n_jobs=4)]: Done  62 tasks      | elapsed:  1.3min\n",
      "[CV]  kernel=Matern(length_scale=0.127, nu=1.5) + WhiteKernel(noise_level=1), score=-5.99963843135e-05, total=   3.7s\n",
      "[CV] kernel=Matern(length_scale=0.127, nu=1.5) + WhiteKernel(noise_level=1) \n",
      "[Parallel(n_jobs=4)]: Done  63 tasks      | elapsed:  1.3min\n",
      "[CV]  kernel=Matern(length_scale=0.127, nu=1.5) + WhiteKernel(noise_level=1), score=-0.00411833910288, total=   4.2s\n",
      "[CV] kernel=Matern(length_scale=0.127, nu=1.5) + WhiteKernel(noise_level=1) \n",
      "[Parallel(n_jobs=4)]: Done  64 tasks      | elapsed:  1.3min\n"
     ]
    },
    {
     "name": "stdout",
     "output_type": "stream",
     "text": [
      "[CV]  kernel=Matern(length_scale=0.127, nu=1.5) + WhiteKernel(noise_level=1), score=-0.00404635948199, total=   3.7s\n",
      "[CV] kernel=Matern(length_scale=0.127, nu=1.5) + WhiteKernel(noise_level=1) \n",
      "[Parallel(n_jobs=4)]: Done  65 tasks      | elapsed:  1.4min\n",
      "[CV]  kernel=Matern(length_scale=0.127, nu=1.5) + WhiteKernel(noise_level=1), score=-0.00146826428718, total=   4.0s\n",
      "[CV] kernel=Matern(length_scale=0.127, nu=1.5) + WhiteKernel(noise_level=1) \n",
      "[Parallel(n_jobs=4)]: Done  66 tasks      | elapsed:  1.4min\n",
      "[CV]  kernel=Matern(length_scale=0.127, nu=1.5) + WhiteKernel(noise_level=1), score=-0.00523944141668, total=   3.4s\n",
      "[CV] kernel=Matern(length_scale=11.7, nu=1.5) + WhiteKernel(noise_level=1) \n",
      "[Parallel(n_jobs=4)]: Done  67 tasks      | elapsed:  1.4min\n",
      "[CV]  kernel=Matern(length_scale=0.127, nu=1.5) + WhiteKernel(noise_level=1), score=-0.0115910500122, total=   4.3s\n",
      "[CV] kernel=Matern(length_scale=11.7, nu=1.5) + WhiteKernel(noise_level=1) \n",
      "[Parallel(n_jobs=4)]: Done  68 tasks      | elapsed:  1.4min\n",
      "[CV]  kernel=Matern(length_scale=0.127, nu=1.5) + WhiteKernel(noise_level=1), score=-0.00547627871787, total=   3.9s\n",
      "[CV] kernel=Matern(length_scale=11.7, nu=1.5) + WhiteKernel(noise_level=1) \n",
      "[Parallel(n_jobs=4)]: Done  69 tasks      | elapsed:  1.5min\n",
      "[CV]  kernel=Matern(length_scale=0.127, nu=1.5) + WhiteKernel(noise_level=1), score=-0.00551453998545, total=   4.0s\n",
      "[CV] kernel=Matern(length_scale=11.7, nu=1.5) + WhiteKernel(noise_level=1) \n",
      "[CV]  kernel=Matern(length_scale=11.7, nu=1.5) + WhiteKernel(noise_level=1), score=0.533399128958, total=   3.9s\n",
      "[CV] kernel=Matern(length_scale=11.7, nu=1.5) + WhiteKernel(noise_level=1) \n",
      "[Parallel(n_jobs=4)]: Done  70 tasks      | elapsed:  1.5min\n",
      "[Parallel(n_jobs=4)]: Done  71 tasks      | elapsed:  1.5min\n",
      "[CV]  kernel=Matern(length_scale=11.7, nu=1.5) + WhiteKernel(noise_level=1), score=0.593265048578, total=   4.2s\n",
      "[CV] kernel=Matern(length_scale=11.7, nu=1.5) + WhiteKernel(noise_level=1) \n",
      "[Parallel(n_jobs=4)]: Done  72 tasks      | elapsed:  1.5min\n",
      "[CV]  kernel=Matern(length_scale=11.7, nu=1.5) + WhiteKernel(noise_level=1), score=0.572298502056, total=   4.2s\n",
      "[CV] kernel=Matern(length_scale=11.7, nu=1.5) + WhiteKernel(noise_level=1) \n",
      "[Parallel(n_jobs=4)]: Done  73 tasks      | elapsed:  1.6min\n",
      "[CV]  kernel=Matern(length_scale=11.7, nu=1.5) + WhiteKernel(noise_level=1), score=0.584076209458, total=   4.1s\n",
      "[CV] kernel=Matern(length_scale=11.7, nu=1.5) + WhiteKernel(noise_level=1) \n",
      "[CV]  kernel=Matern(length_scale=11.7, nu=1.5) + WhiteKernel(noise_level=1), score=0.577839414409, total=   4.3s\n",
      "[CV] kernel=Matern(length_scale=11.7, nu=1.5) + WhiteKernel(noise_level=1) \n",
      "[Parallel(n_jobs=4)]: Done  74 tasks      | elapsed:  1.6min\n",
      "[Parallel(n_jobs=4)]: Done  75 tasks      | elapsed:  1.6min\n",
      "[CV]  kernel=Matern(length_scale=11.7, nu=1.5) + WhiteKernel(noise_level=1), score=0.611847131938, total=   3.3s\n",
      "[CV] kernel=Matern(length_scale=11.7, nu=1.5) + WhiteKernel(noise_level=1) \n",
      "[Parallel(n_jobs=4)]: Done  76 tasks      | elapsed:  1.6min\n",
      "[CV]  kernel=Matern(length_scale=11.7, nu=1.5) + WhiteKernel(noise_level=1), score=0.562492183809, total=   3.7s\n",
      "[CV] kernel=Matern(length_scale=14.9, nu=1.5) + WhiteKernel(noise_level=1) \n",
      "[CV]  kernel=Matern(length_scale=11.7, nu=1.5) + WhiteKernel(noise_level=1), score=0.519209219809, total=   3.4s\n",
      "[CV] kernel=Matern(length_scale=14.9, nu=1.5) + WhiteKernel(noise_level=1) \n",
      "[Parallel(n_jobs=4)]: Done  77 tasks      | elapsed:  1.7min\n",
      "[Parallel(n_jobs=4)]: Done  78 tasks      | elapsed:  1.7min\n",
      "[CV]  kernel=Matern(length_scale=11.7, nu=1.5) + WhiteKernel(noise_level=1), score=0.466286730212, total=   3.7s\n",
      "[CV] kernel=Matern(length_scale=14.9, nu=1.5) + WhiteKernel(noise_level=1) \n",
      "[Parallel(n_jobs=4)]: Done  79 tasks      | elapsed:  1.7min\n",
      "[CV]  kernel=Matern(length_scale=11.7, nu=1.5) + WhiteKernel(noise_level=1), score=0.483274874606, total=   3.2s\n",
      "[CV] kernel=Matern(length_scale=14.9, nu=1.5) + WhiteKernel(noise_level=1) \n",
      "[Parallel(n_jobs=4)]: Done  80 tasks      | elapsed:  1.7min\n",
      "[CV]  kernel=Matern(length_scale=14.9, nu=1.5) + WhiteKernel(noise_level=1), score=0.573231412269, total=   3.7s\n",
      "[CV]  kernel=Matern(length_scale=14.9, nu=1.5) + WhiteKernel(noise_level=1), score=0.502585631342, total=   3.8s\n",
      "[CV]  kernel=Matern(length_scale=14.9, nu=1.5) + WhiteKernel(noise_level=1), score=0.540452761851, total=   3.5s\n",
      "[CV] kernel=Matern(length_scale=14.9, nu=1.5) + WhiteKernel(noise_level=1) \n",
      "[CV] kernel=Matern(length_scale=14.9, nu=1.5) + WhiteKernel(noise_level=1) \n",
      "[CV] kernel=Matern(length_scale=14.9, nu=1.5) + WhiteKernel(noise_level=1) \n",
      "[Parallel(n_jobs=4)]: Done  81 tasks      | elapsed:  1.7min\n",
      "[Parallel(n_jobs=4)]: Done  82 tasks      | elapsed:  1.7min\n",
      "[Parallel(n_jobs=4)]: Done  83 tasks      | elapsed:  1.7min\n",
      "[CV]  kernel=Matern(length_scale=14.9, nu=1.5) + WhiteKernel(noise_level=1), score=0.546094821984, total=   3.2s\n",
      "[CV] kernel=Matern(length_scale=14.9, nu=1.5) + WhiteKernel(noise_level=1) \n",
      "[Parallel(n_jobs=4)]: Done  84 tasks      | elapsed:  1.8min\n",
      "[CV]  kernel=Matern(length_scale=14.9, nu=1.5) + WhiteKernel(noise_level=1), score=0.560869517998, total=   3.6s\n",
      "[CV] kernel=Matern(length_scale=14.9, nu=1.5) + WhiteKernel(noise_level=1) \n",
      "[Parallel(n_jobs=4)]: Done  85 tasks      | elapsed:  1.8min\n",
      "[CV]  kernel=Matern(length_scale=14.9, nu=1.5) + WhiteKernel(noise_level=1), score=0.538111969007, total=   4.2s\n",
      "[CV] kernel=Matern(length_scale=14.9, nu=1.5) + WhiteKernel(noise_level=1) \n",
      "[CV]  kernel=Matern(length_scale=14.9, nu=1.5) + WhiteKernel(noise_level=1), score=0.579310365196, total=   4.2s\n",
      "[CV] kernel=Matern(length_scale=0.853, nu=1.5) + WhiteKernel(noise_level=1) \n",
      "[Parallel(n_jobs=4)]: Done  86 tasks      | elapsed:  1.8min\n",
      "[Parallel(n_jobs=4)]: Done  87 tasks      | elapsed:  1.8min\n",
      "[CV]  kernel=Matern(length_scale=14.9, nu=1.5) + WhiteKernel(noise_level=1), score=0.495692872177, total=   3.7s\n",
      "[CV] kernel=Matern(length_scale=0.853, nu=1.5) + WhiteKernel(noise_level=1) \n",
      "[Parallel(n_jobs=4)]: Done  88 tasks      | elapsed:  1.9min\n",
      "[CV]  kernel=Matern(length_scale=14.9, nu=1.5) + WhiteKernel(noise_level=1), score=0.439641572557, total=   4.5s\n",
      "[CV]  kernel=Matern(length_scale=14.9, nu=1.5) + WhiteKernel(noise_level=1), score=0.452779263338, total=   4.0s\n",
      "[CV] kernel=Matern(length_scale=0.853, nu=1.5) + WhiteKernel(noise_level=1) \n",
      "[CV] kernel=Matern(length_scale=0.853, nu=1.5) + WhiteKernel(noise_level=1) \n",
      "[Parallel(n_jobs=4)]: Done  89 tasks      | elapsed:  1.9min\n",
      "[Parallel(n_jobs=4)]: Done  90 tasks      | elapsed:  1.9min\n",
      "[CV]  kernel=Matern(length_scale=0.853, nu=1.5) + WhiteKernel(noise_level=1), score=0.160583143204, total=   4.5s\n",
      "[CV] kernel=Matern(length_scale=0.853, nu=1.5) + WhiteKernel(noise_level=1) \n",
      "[Parallel(n_jobs=4)]: Done  91 tasks      | elapsed:  1.9min\n",
      "[CV]  kernel=Matern(length_scale=0.853, nu=1.5) + WhiteKernel(noise_level=1), score=0.132457568114, total=   3.8s\n",
      "[CV] kernel=Matern(length_scale=0.853, nu=1.5) + WhiteKernel(noise_level=1) \n",
      "[Parallel(n_jobs=4)]: Done  92 tasks      | elapsed:  1.9min\n",
      "[CV]  kernel=Matern(length_scale=0.853, nu=1.5) + WhiteKernel(noise_level=1), score=0.129526212687, total=   3.7s\n",
      "[CV]  kernel=Matern(length_scale=0.853, nu=1.5) + WhiteKernel(noise_level=1), score=0.132503516916, total=   3.7s\n",
      "[CV]  kernel=Matern(length_scale=0.853, nu=1.5) + WhiteKernel(noise_level=1), score=0.111945396115, total=   3.8s\n",
      "[CV] kernel=Matern(length_scale=0.853, nu=1.5) + WhiteKernel(noise_level=1) \n",
      "[CV] kernel=Matern(length_scale=0.853, nu=1.5) + WhiteKernel(noise_level=1) \n",
      "[CV] kernel=Matern(length_scale=0.853, nu=1.5) + WhiteKernel(noise_level=1) \n",
      "[Parallel(n_jobs=4)]: Done  93 tasks      | elapsed:  2.0min\n",
      "[CV]  kernel=Matern(length_scale=0.853, nu=1.5) + WhiteKernel(noise_level=1), score=0.151798682622, total=   3.6s\n",
      "[CV] kernel=Matern(length_scale=0.853, nu=1.5) + WhiteKernel(noise_level=1) \n",
      "[Parallel(n_jobs=4)]: Done  96 out of 100 | elapsed:  2.0min remaining:    5.0s\n",
      "[CV]  kernel=Matern(length_scale=0.853, nu=1.5) + WhiteKernel(noise_level=1), score=0.160280332066, total=   3.5s\n",
      "[CV]  kernel=Matern(length_scale=0.853, nu=1.5) + WhiteKernel(noise_level=1), score=0.0869449457973, total=   3.5s\n",
      "[CV]  kernel=Matern(length_scale=0.853, nu=1.5) + WhiteKernel(noise_level=1), score=0.142637759443, total=   3.8s\n"
     ]
    },
    {
     "name": "stdout",
     "output_type": "stream",
     "text": [
      "[CV]  kernel=Matern(length_scale=0.853, nu=1.5) + WhiteKernel(noise_level=1), score=0.127285297805, total=   2.6s\n",
      "[Parallel(n_jobs=4)]: Done 100 out of 100 | elapsed:  2.1min finished\n"
     ]
    },
    {
     "data": {
      "text/plain": [
       "0.59003526732412059"
      ]
     },
     "execution_count": 105,
     "metadata": {},
     "output_type": "execute_result"
    }
   ],
   "source": [
    "\n",
    "# cross validation \n",
    "\n",
    "lss = np.logspace(0,1,10)\n",
    "nls = np.logspace(-1,1,10)\n",
    "\n",
    "\n",
    "RBFS = map(lambda x: RBF(length_scale=x, length_scale_bounds='fixed') + WK(noise_level=1, noise_level_bounds='fixed'), np.logspace(0,1,10))\n",
    "WS = map(lambda x: RBF(length_scale=3.56, length_scale_bounds='fixed') + WK(noise_level=x, noise_level_bounds='fixed'), np.logspace(-1,1,10))\n",
    "Materns = map(lambda x: Matern(length_scale=x, length_scale_bounds='fixed') + WK(noise_level=1, noise_level_bounds='fixed'), np.logspace(-1,2,30))\n",
    "\n",
    "\n",
    "\n",
    "params = {'kernel': Materns}\n",
    "\n",
    "model = gp(random_state=1, normalize_y=True)\n",
    "cv = RandomizedSearchCV(model, param_distributions=params, n_iter=10, cv=10, verbose=50, n_jobs=4)\n",
    "\n",
    "cv.fit(X_train, y_train)\n",
    "cv.best_estimator_.score(X_test, y_test)"
   ]
  },
  {
   "cell_type": "code",
   "execution_count": 101,
   "metadata": {},
   "outputs": [],
   "source": [
    "seeds = np.arange(10)\n",
    "scores = []\n",
    "for seed in seeds: \n",
    "    np.random.seed(seed)\n",
    "    X_train, X_test, y_train, y_test = train_test_split(X, y, test_size=0.2)\n",
    "    normalizer = ss()\n",
    "    X_train = normalizer.fit_transform(X_train)\n",
    "    X_test = normalizer.transform(X_test)\n",
    "    kernel = RBF(length_scale=3.56, length_scale_bounds='fixed') + WK(noise_level=0.546, noise_level_bounds='fixed')\n",
    "\n",
    "    model = gp(kernel=kernel).fit(X_train, y_train)\n",
    "    model.fit(X_train, y_train)\n",
    "    scores.append(model.score(X_test, y_test))"
   ]
  },
  {
   "cell_type": "code",
   "execution_count": 102,
   "metadata": {},
   "outputs": [
    {
     "name": "stdout",
     "output_type": "stream",
     "text": [
      "(0.62449261429196146, 0.026598768825192468)\n"
     ]
    }
   ],
   "source": [
    "print(np.mean(scores), np.std(scores))"
   ]
  },
  {
   "cell_type": "code",
   "execution_count": 79,
   "metadata": {},
   "outputs": [
    {
     "ename": "LinAlgError",
     "evalue": "(\"The kernel, 1**2 * RBF(length_scale=1) + ExpSineSquared(length_scale=1, periodicity=1), is not returning a positive definite matrix. Try gradually increasing the 'alpha' parameter of your GaussianProcessRegressor estimator.\", '12-th leading minor of the array is not positive definite')",
     "output_type": "error",
     "traceback": [
      "\u001b[0;31m---------------------------------------------------------------------------\u001b[0m",
      "\u001b[0;31mLinAlgError\u001b[0m                               Traceback (most recent call last)",
      "\u001b[0;32m<ipython-input-79-2ea42a778585>\u001b[0m in \u001b[0;36m<module>\u001b[0;34m()\u001b[0m\n\u001b[1;32m      3\u001b[0m \u001b[0mmodel\u001b[0m \u001b[0;34m=\u001b[0m \u001b[0mgp\u001b[0m\u001b[0;34m(\u001b[0m\u001b[0mkernel\u001b[0m\u001b[0;34m=\u001b[0m\u001b[0mkernel\u001b[0m\u001b[0;34m,\u001b[0m \u001b[0mrandom_state\u001b[0m\u001b[0;34m=\u001b[0m\u001b[0;36m1\u001b[0m\u001b[0;34m)\u001b[0m\u001b[0;34m\u001b[0m\u001b[0m\n\u001b[1;32m      4\u001b[0m \u001b[0;31m#model = gp(kernel=RBF(np.ones(n_features)))\u001b[0m\u001b[0;34m\u001b[0m\u001b[0;34m\u001b[0m\u001b[0m\n\u001b[0;32m----> 5\u001b[0;31m \u001b[0mmodel\u001b[0m\u001b[0;34m.\u001b[0m\u001b[0mfit\u001b[0m\u001b[0;34m(\u001b[0m\u001b[0mX_train\u001b[0m\u001b[0;34m,\u001b[0m \u001b[0my_train\u001b[0m\u001b[0;34m)\u001b[0m\u001b[0;34m\u001b[0m\u001b[0m\n\u001b[0m\u001b[1;32m      6\u001b[0m \u001b[0mmodel\u001b[0m\u001b[0;34m.\u001b[0m\u001b[0mscore\u001b[0m\u001b[0;34m(\u001b[0m\u001b[0mX_test\u001b[0m\u001b[0;34m,\u001b[0m \u001b[0my_test\u001b[0m\u001b[0;34m)\u001b[0m\u001b[0;34m\u001b[0m\u001b[0m\n",
      "\u001b[0;32m/usr/local/lib/python2.7/dist-packages/sklearn/gaussian_process/gpr.pyc\u001b[0m in \u001b[0;36mfit\u001b[0;34m(self, X, y)\u001b[0m\n\u001b[1;32m    245\u001b[0m         \u001b[0mK\u001b[0m\u001b[0;34m[\u001b[0m\u001b[0mnp\u001b[0m\u001b[0;34m.\u001b[0m\u001b[0mdiag_indices_from\u001b[0m\u001b[0;34m(\u001b[0m\u001b[0mK\u001b[0m\u001b[0;34m)\u001b[0m\u001b[0;34m]\u001b[0m \u001b[0;34m+=\u001b[0m \u001b[0mself\u001b[0m\u001b[0;34m.\u001b[0m\u001b[0malpha\u001b[0m\u001b[0;34m\u001b[0m\u001b[0m\n\u001b[1;32m    246\u001b[0m         \u001b[0;32mtry\u001b[0m\u001b[0;34m:\u001b[0m\u001b[0;34m\u001b[0m\u001b[0m\n\u001b[0;32m--> 247\u001b[0;31m             \u001b[0mself\u001b[0m\u001b[0;34m.\u001b[0m\u001b[0mL_\u001b[0m \u001b[0;34m=\u001b[0m \u001b[0mcholesky\u001b[0m\u001b[0;34m(\u001b[0m\u001b[0mK\u001b[0m\u001b[0;34m,\u001b[0m \u001b[0mlower\u001b[0m\u001b[0;34m=\u001b[0m\u001b[0mTrue\u001b[0m\u001b[0;34m)\u001b[0m  \u001b[0;31m# Line 2\u001b[0m\u001b[0;34m\u001b[0m\u001b[0m\n\u001b[0m\u001b[1;32m    248\u001b[0m         \u001b[0;32mexcept\u001b[0m \u001b[0mnp\u001b[0m\u001b[0;34m.\u001b[0m\u001b[0mlinalg\u001b[0m\u001b[0;34m.\u001b[0m\u001b[0mLinAlgError\u001b[0m \u001b[0;32mas\u001b[0m \u001b[0mexc\u001b[0m\u001b[0;34m:\u001b[0m\u001b[0;34m\u001b[0m\u001b[0m\n\u001b[1;32m    249\u001b[0m             exc.args = (\"The kernel, %s, is not returning a \"\n",
      "\u001b[0;32m/usr/local/lib/python2.7/dist-packages/scipy/linalg/decomp_cholesky.pyc\u001b[0m in \u001b[0;36mcholesky\u001b[0;34m(a, lower, overwrite_a, check_finite)\u001b[0m\n\u001b[1;32m     89\u001b[0m     \"\"\"\n\u001b[1;32m     90\u001b[0m     c, lower = _cholesky(a, lower=lower, overwrite_a=overwrite_a, clean=True,\n\u001b[0;32m---> 91\u001b[0;31m                          check_finite=check_finite)\n\u001b[0m\u001b[1;32m     92\u001b[0m     \u001b[0;32mreturn\u001b[0m \u001b[0mc\u001b[0m\u001b[0;34m\u001b[0m\u001b[0m\n\u001b[1;32m     93\u001b[0m \u001b[0;34m\u001b[0m\u001b[0m\n",
      "\u001b[0;32m/usr/local/lib/python2.7/dist-packages/scipy/linalg/decomp_cholesky.pyc\u001b[0m in \u001b[0;36m_cholesky\u001b[0;34m(a, lower, overwrite_a, clean, check_finite)\u001b[0m\n\u001b[1;32m     38\u001b[0m     \u001b[0;32mif\u001b[0m \u001b[0minfo\u001b[0m \u001b[0;34m>\u001b[0m \u001b[0;36m0\u001b[0m\u001b[0;34m:\u001b[0m\u001b[0;34m\u001b[0m\u001b[0m\n\u001b[1;32m     39\u001b[0m         raise LinAlgError(\"%d-th leading minor of the array is not positive \"\n\u001b[0;32m---> 40\u001b[0;31m                           \"definite\" % info)\n\u001b[0m\u001b[1;32m     41\u001b[0m     \u001b[0;32mif\u001b[0m \u001b[0minfo\u001b[0m \u001b[0;34m<\u001b[0m \u001b[0;36m0\u001b[0m\u001b[0;34m:\u001b[0m\u001b[0;34m\u001b[0m\u001b[0m\n\u001b[1;32m     42\u001b[0m         raise ValueError('LAPACK reported an illegal value in {}-th argument'\n",
      "\u001b[0;31mLinAlgError\u001b[0m: (\"The kernel, 1**2 * RBF(length_scale=1) + ExpSineSquared(length_scale=1, periodicity=1), is not returning a positive definite matrix. Try gradually increasing the 'alpha' parameter of your GaussianProcessRegressor estimator.\", '12-th leading minor of the array is not positive definite')"
     ]
    }
   ],
   "source": [
    "n_features = X_train.shape[1]\n",
    "kernel = C(1.0, constant_value_bounds=\"fixed\") * RBF(1.0, length_scale_bounds=\"fixed\") + ESS()\n",
    "model = gp(kernel=kernel, random_state=1)\n",
    "#model = gp(kernel=RBF(np.ones(n_features)))\n",
    "model.fit(X_train, y_train)\n",
    "model.score(X_test, y_test)"
   ]
  },
  {
   "cell_type": "code",
   "execution_count": 124,
   "metadata": {},
   "outputs": [
    {
     "ename": "AttributeError",
     "evalue": "'str' object has no attribute 'theta'",
     "output_type": "error",
     "traceback": [
      "\u001b[0;31m---------------------------------------------------------------------------\u001b[0m",
      "\u001b[0;31mAttributeError\u001b[0m                            Traceback (most recent call last)",
      "\u001b[0;32m<ipython-input-124-1ed6d3a47585>\u001b[0m in \u001b[0;36m<module>\u001b[0;34m()\u001b[0m\n\u001b[1;32m     10\u001b[0m \u001b[0;34m\u001b[0m\u001b[0m\n\u001b[1;32m     11\u001b[0m \u001b[0mmodel2\u001b[0m \u001b[0;34m=\u001b[0m \u001b[0mgp\u001b[0m\u001b[0;34m(\u001b[0m\u001b[0mkernel\u001b[0m\u001b[0;34m=\u001b[0m\u001b[0mck\u001b[0m\u001b[0;34m)\u001b[0m\u001b[0;34m\u001b[0m\u001b[0m\n\u001b[0;32m---> 12\u001b[0;31m \u001b[0mmodel2\u001b[0m\u001b[0;34m.\u001b[0m\u001b[0mfit\u001b[0m\u001b[0;34m(\u001b[0m\u001b[0mX_train\u001b[0m\u001b[0;34m,\u001b[0m \u001b[0my_train\u001b[0m\u001b[0;34m)\u001b[0m\u001b[0;34m\u001b[0m\u001b[0m\n\u001b[0m\u001b[1;32m     13\u001b[0m \u001b[0mmodel2\u001b[0m\u001b[0;34m.\u001b[0m\u001b[0mscore\u001b[0m\u001b[0;34m(\u001b[0m\u001b[0mX_test\u001b[0m\u001b[0;34m,\u001b[0m \u001b[0my_test\u001b[0m\u001b[0;34m)\u001b[0m\u001b[0;34m\u001b[0m\u001b[0m\n",
      "\u001b[0;32m/usr/local/lib/python2.7/dist-packages/sklearn/gaussian_process/gpr.pyc\u001b[0m in \u001b[0;36mfit\u001b[0;34m(self, X, y)\u001b[0m\n\u001b[1;32m    201\u001b[0m         \u001b[0mself\u001b[0m\u001b[0;34m.\u001b[0m\u001b[0my_train_\u001b[0m \u001b[0;34m=\u001b[0m \u001b[0mnp\u001b[0m\u001b[0;34m.\u001b[0m\u001b[0mcopy\u001b[0m\u001b[0;34m(\u001b[0m\u001b[0my\u001b[0m\u001b[0;34m)\u001b[0m \u001b[0;32mif\u001b[0m \u001b[0mself\u001b[0m\u001b[0;34m.\u001b[0m\u001b[0mcopy_X_train\u001b[0m \u001b[0;32melse\u001b[0m \u001b[0my\u001b[0m\u001b[0;34m\u001b[0m\u001b[0m\n\u001b[1;32m    202\u001b[0m \u001b[0;34m\u001b[0m\u001b[0m\n\u001b[0;32m--> 203\u001b[0;31m         \u001b[0;32mif\u001b[0m \u001b[0mself\u001b[0m\u001b[0;34m.\u001b[0m\u001b[0moptimizer\u001b[0m \u001b[0;32mis\u001b[0m \u001b[0;32mnot\u001b[0m \u001b[0mNone\u001b[0m \u001b[0;32mand\u001b[0m \u001b[0mself\u001b[0m\u001b[0;34m.\u001b[0m\u001b[0mkernel_\u001b[0m\u001b[0;34m.\u001b[0m\u001b[0mn_dims\u001b[0m \u001b[0;34m>\u001b[0m \u001b[0;36m0\u001b[0m\u001b[0;34m:\u001b[0m\u001b[0;34m\u001b[0m\u001b[0m\n\u001b[0m\u001b[1;32m    204\u001b[0m             \u001b[0;31m# Choose hyperparameters based on maximizing the log-marginal\u001b[0m\u001b[0;34m\u001b[0m\u001b[0;34m\u001b[0m\u001b[0m\n\u001b[1;32m    205\u001b[0m             \u001b[0;31m# likelihood (potentially starting from several initial values)\u001b[0m\u001b[0;34m\u001b[0m\u001b[0;34m\u001b[0m\u001b[0m\n",
      "\u001b[0;32m/usr/local/lib/python2.7/dist-packages/sklearn/gaussian_process/kernels.pyc\u001b[0m in \u001b[0;36mn_dims\u001b[0;34m(self)\u001b[0m\n\u001b[1;32m    208\u001b[0m     \u001b[0;32mdef\u001b[0m \u001b[0mn_dims\u001b[0m\u001b[0;34m(\u001b[0m\u001b[0mself\u001b[0m\u001b[0;34m)\u001b[0m\u001b[0;34m:\u001b[0m\u001b[0;34m\u001b[0m\u001b[0m\n\u001b[1;32m    209\u001b[0m         \u001b[0;34m\"\"\"Returns the number of non-fixed hyperparameters of the kernel.\"\"\"\u001b[0m\u001b[0;34m\u001b[0m\u001b[0m\n\u001b[0;32m--> 210\u001b[0;31m         \u001b[0;32mreturn\u001b[0m \u001b[0mself\u001b[0m\u001b[0;34m.\u001b[0m\u001b[0mtheta\u001b[0m\u001b[0;34m.\u001b[0m\u001b[0mshape\u001b[0m\u001b[0;34m[\u001b[0m\u001b[0;36m0\u001b[0m\u001b[0;34m]\u001b[0m\u001b[0;34m\u001b[0m\u001b[0m\n\u001b[0m\u001b[1;32m    211\u001b[0m \u001b[0;34m\u001b[0m\u001b[0m\n\u001b[1;32m    212\u001b[0m     \u001b[0;34m@\u001b[0m\u001b[0mproperty\u001b[0m\u001b[0;34m\u001b[0m\u001b[0m\n",
      "\u001b[0;32m/usr/local/lib/python2.7/dist-packages/sklearn/gaussian_process/kernels.pyc\u001b[0m in \u001b[0;36mtheta\u001b[0;34m(self)\u001b[0m\n\u001b[1;32m    431\u001b[0m             \u001b[0mThe\u001b[0m \u001b[0mnon\u001b[0m\u001b[0;34m-\u001b[0m\u001b[0mfixed\u001b[0m\u001b[0;34m,\u001b[0m \u001b[0mlog\u001b[0m\u001b[0;34m-\u001b[0m\u001b[0mtransformed\u001b[0m \u001b[0mhyperparameters\u001b[0m \u001b[0mof\u001b[0m \u001b[0mthe\u001b[0m \u001b[0mkernel\u001b[0m\u001b[0;34m\u001b[0m\u001b[0m\n\u001b[1;32m    432\u001b[0m         \"\"\"\n\u001b[0;32m--> 433\u001b[0;31m         \u001b[0;32mreturn\u001b[0m \u001b[0mnp\u001b[0m\u001b[0;34m.\u001b[0m\u001b[0mhstack\u001b[0m\u001b[0;34m(\u001b[0m\u001b[0;34m[\u001b[0m\u001b[0mkernel\u001b[0m\u001b[0;34m.\u001b[0m\u001b[0mtheta\u001b[0m \u001b[0;32mfor\u001b[0m \u001b[0mkernel\u001b[0m \u001b[0;32min\u001b[0m \u001b[0mself\u001b[0m\u001b[0;34m.\u001b[0m\u001b[0mkernels\u001b[0m\u001b[0;34m]\u001b[0m\u001b[0;34m)\u001b[0m\u001b[0;34m\u001b[0m\u001b[0m\n\u001b[0m\u001b[1;32m    434\u001b[0m \u001b[0;34m\u001b[0m\u001b[0m\n\u001b[1;32m    435\u001b[0m     \u001b[0;34m@\u001b[0m\u001b[0mtheta\u001b[0m\u001b[0;34m.\u001b[0m\u001b[0msetter\u001b[0m\u001b[0;34m\u001b[0m\u001b[0m\n",
      "\u001b[0;31mAttributeError\u001b[0m: 'str' object has no attribute 'theta'"
     ]
    }
   ],
   "source": [
    "from sklearn.gaussian_process.kernels import CompoundKernel\n",
    "from sklearn.gaussian_process.kernels import WhiteKernel\n",
    "from sklearn.gaussian_process.kernels import ExpSineSquared\n",
    "from sklearn.gaussian_process.kernels import RBF\n",
    "\n",
    "rbf = RBF()\n",
    "ess = ExpSineSquared()\n",
    "wk = WhiteKernel()\n",
    "ck = CompoundKernel({'k1': rbf, 'k2':ess, 'k3': wk})\n",
    "\n",
    "model2 = gp(kernel=ck)\n",
    "model2.fit(X_train, y_train)\n",
    "model2.score(X_test, y_test)"
   ]
  },
  {
   "cell_type": "code",
   "execution_count": 74,
   "metadata": {},
   "outputs": [
    {
     "data": {
      "text/plain": [
       "{'kernel': RBF(length_scale=3.56) + WhiteKernel(noise_level=0.546)}"
      ]
     },
     "execution_count": 74,
     "metadata": {},
     "output_type": "execute_result"
    }
   ],
   "source": [
    "cv.best_params_"
   ]
  },
  {
   "cell_type": "code",
   "execution_count": 66,
   "metadata": {},
   "outputs": [
    {
     "name": "stderr",
     "output_type": "stream",
     "text": [
      "/usr/local/lib/python2.7/dist-packages/sklearn/utils/deprecation.py:122: FutureWarning: You are accessing a training score ('mean_train_score'), which will not be available by default any more in 0.21. If you need training scores, please set return_train_score=True\n",
      "  warnings.warn(*warn_args, **warn_kwargs)\n",
      "/usr/local/lib/python2.7/dist-packages/sklearn/utils/deprecation.py:122: FutureWarning: You are accessing a training score ('split0_train_score'), which will not be available by default any more in 0.21. If you need training scores, please set return_train_score=True\n",
      "  warnings.warn(*warn_args, **warn_kwargs)\n",
      "/usr/local/lib/python2.7/dist-packages/sklearn/utils/deprecation.py:122: FutureWarning: You are accessing a training score ('split1_train_score'), which will not be available by default any more in 0.21. If you need training scores, please set return_train_score=True\n",
      "  warnings.warn(*warn_args, **warn_kwargs)\n",
      "/usr/local/lib/python2.7/dist-packages/sklearn/utils/deprecation.py:122: FutureWarning: You are accessing a training score ('split2_train_score'), which will not be available by default any more in 0.21. If you need training scores, please set return_train_score=True\n",
      "  warnings.warn(*warn_args, **warn_kwargs)\n",
      "/usr/local/lib/python2.7/dist-packages/sklearn/utils/deprecation.py:122: FutureWarning: You are accessing a training score ('split3_train_score'), which will not be available by default any more in 0.21. If you need training scores, please set return_train_score=True\n",
      "  warnings.warn(*warn_args, **warn_kwargs)\n",
      "/usr/local/lib/python2.7/dist-packages/sklearn/utils/deprecation.py:122: FutureWarning: You are accessing a training score ('split4_train_score'), which will not be available by default any more in 0.21. If you need training scores, please set return_train_score=True\n",
      "  warnings.warn(*warn_args, **warn_kwargs)\n",
      "/usr/local/lib/python2.7/dist-packages/sklearn/utils/deprecation.py:122: FutureWarning: You are accessing a training score ('std_train_score'), which will not be available by default any more in 0.21. If you need training scores, please set return_train_score=True\n",
      "  warnings.warn(*warn_args, **warn_kwargs)\n"
     ]
    },
    {
     "data": {
      "text/plain": [
       "{'mean_fit_time': array([ 2.52372966,  2.59393964,  2.68270388,  2.79936523,  2.70368147,\n",
       "         2.63490114,  2.68024678,  2.68676801,  2.73868828,  2.37268596]),\n",
       " 'mean_score_time': array([ 0.17102318,  0.15184665,  0.1672616 ,  0.16661377,  0.18991356,\n",
       "         0.22867179,  0.19662938,  0.26125679,  0.18904738,  0.14975004]),\n",
       " 'mean_test_score': array([-0.00202517, -0.00202517, -0.00202517, -0.00202517, -0.00202517,\n",
       "        -0.00202492,  0.0159964 ,  0.25467955,  0.60453345,  0.49568194]),\n",
       " 'mean_train_score': array([ 0.75      ,  0.75      ,  0.75      ,  0.75      ,  0.75      ,\n",
       "         0.75000007,  0.75391046,  0.78864647,  0.77634207,  0.53941404]),\n",
       " 'param_kernel': masked_array(data = [RBF(length_scale=0.001) + WhiteKernel(noise_level=1)\n",
       "  RBF(length_scale=0.00278) + WhiteKernel(noise_level=1)\n",
       "  RBF(length_scale=0.00774) + WhiteKernel(noise_level=1)\n",
       "  RBF(length_scale=0.0215) + WhiteKernel(noise_level=1)\n",
       "  RBF(length_scale=0.0599) + WhiteKernel(noise_level=1)\n",
       "  RBF(length_scale=0.167) + WhiteKernel(noise_level=1)\n",
       "  RBF(length_scale=0.464) + WhiteKernel(noise_level=1)\n",
       "  RBF(length_scale=1.29) + WhiteKernel(noise_level=1)\n",
       "  RBF(length_scale=3.59) + WhiteKernel(noise_level=1)\n",
       "  RBF(length_scale=10) + WhiteKernel(noise_level=1)],\n",
       "              mask = [False False False False False False False False False False],\n",
       "        fill_value = ?),\n",
       " 'params': [{'kernel': RBF(length_scale=0.001) + WhiteKernel(noise_level=1)},\n",
       "  {'kernel': RBF(length_scale=0.00278) + WhiteKernel(noise_level=1)},\n",
       "  {'kernel': RBF(length_scale=0.00774) + WhiteKernel(noise_level=1)},\n",
       "  {'kernel': RBF(length_scale=0.0215) + WhiteKernel(noise_level=1)},\n",
       "  {'kernel': RBF(length_scale=0.0599) + WhiteKernel(noise_level=1)},\n",
       "  {'kernel': RBF(length_scale=0.167) + WhiteKernel(noise_level=1)},\n",
       "  {'kernel': RBF(length_scale=0.464) + WhiteKernel(noise_level=1)},\n",
       "  {'kernel': RBF(length_scale=1.29) + WhiteKernel(noise_level=1)},\n",
       "  {'kernel': RBF(length_scale=3.59) + WhiteKernel(noise_level=1)},\n",
       "  {'kernel': RBF(length_scale=10) + WhiteKernel(noise_level=1)}],\n",
       " 'rank_test_score': array([6, 6, 6, 6, 6, 5, 4, 3, 1, 2], dtype=int32),\n",
       " 'split0_test_score': array([-0.00598057, -0.00598057, -0.00598057, -0.00598057, -0.00598057,\n",
       "        -0.00598016,  0.01700321,  0.25848108,  0.62453941,  0.52278671]),\n",
       " 'split0_train_score': array([ 0.75      ,  0.75      ,  0.75      ,  0.75      ,  0.75      ,\n",
       "         0.75000006,  0.75361474,  0.78961275,  0.77419666,  0.53612049]),\n",
       " 'split1_test_score': array([-0.00075755, -0.00075755, -0.00075755, -0.00075755, -0.00075755,\n",
       "        -0.00075733,  0.01183729,  0.23520652,  0.63976212,  0.50786579]),\n",
       " 'split1_train_score': array([ 0.75      ,  0.75      ,  0.75      ,  0.75      ,  0.75      ,\n",
       "         0.75000007,  0.75442702,  0.78445597,  0.76513058,  0.5315015 ]),\n",
       " 'split2_test_score': array([-0.00094756, -0.00094756, -0.00094756, -0.00094756, -0.00094756,\n",
       "        -0.00094732,  0.01604702,  0.26378982,  0.57922642,  0.46299361]),\n",
       " 'split2_train_score': array([ 0.75      ,  0.75      ,  0.75      ,  0.75      ,  0.75      ,\n",
       "         0.75000007,  0.75410163,  0.78953149,  0.78145871,  0.54730747]),\n",
       " 'split3_test_score': array([-0.00091554, -0.00091554, -0.00091554, -0.00091554, -0.00091554,\n",
       "        -0.00091538,  0.01966743,  0.27413908,  0.5625072 ,  0.4742811 ]),\n",
       " 'split3_train_score': array([ 0.75      ,  0.75      ,  0.75      ,  0.75      ,  0.75      ,\n",
       "         0.75000008,  0.75354823,  0.7917315 ,  0.78620094,  0.54679874]),\n",
       " 'split4_test_score': array([-0.00151699, -0.00151699, -0.00151699, -0.00151699, -0.00151699,\n",
       "        -0.00151676,  0.01542511,  0.24177388,  0.61659331,  0.51042995]),\n",
       " 'split4_train_score': array([ 0.75      ,  0.75      ,  0.75      ,  0.75      ,  0.75      ,\n",
       "         0.75000006,  0.75386066,  0.78790065,  0.77472345,  0.53534199]),\n",
       " 'std_fit_time': array([ 0.20217314,  0.07439098,  0.25867996,  0.07502295,  0.11387719,\n",
       "         0.31432347,  0.231898  ,  0.33069797,  0.14999578,  0.29091757]),\n",
       " 'std_score_time': array([ 0.04671895,  0.03084734,  0.02503133,  0.06361602,  0.05875067,\n",
       "         0.02173805,  0.06576464,  0.1055681 ,  0.05473498,  0.05979961]),\n",
       " 'std_test_score': array([ 0.00199627,  0.00199627,  0.00199627,  0.00199627,  0.00199627,\n",
       "         0.00199619,  0.00253404,  0.01429342,  0.028957  ,  0.02292399]),\n",
       " 'std_train_score': array([  7.02166694e-17,   7.02166694e-17,   7.02166694e-17,\n",
       "          7.02166694e-17,   7.02166694e-17,   7.72641699e-09,\n",
       "          3.23890377e-04,   2.42284457e-03,   7.15957585e-03,\n",
       "          6.43237616e-03])}"
      ]
     },
     "execution_count": 66,
     "metadata": {},
     "output_type": "execute_result"
    }
   ],
   "source": [
    "cv.cv_results_"
   ]
  },
  {
   "cell_type": "code",
   "execution_count": 60,
   "metadata": {},
   "outputs": [
    {
     "data": {
      "text/plain": [
       "[RBF(length_scale=0.001),\n",
       " RBF(length_scale=0.00278),\n",
       " RBF(length_scale=0.00774),\n",
       " RBF(length_scale=0.0215),\n",
       " RBF(length_scale=0.0599),\n",
       " RBF(length_scale=0.167),\n",
       " RBF(length_scale=0.464),\n",
       " RBF(length_scale=1.29),\n",
       " RBF(length_scale=3.59),\n",
       " RBF(length_scale=10)]"
      ]
     },
     "execution_count": 60,
     "metadata": {},
     "output_type": "execute_result"
    }
   ],
   "source": []
  },
  {
   "cell_type": "code",
   "execution_count": 100,
   "metadata": {},
   "outputs": [
    {
     "data": {
      "text/plain": [
       "(3227, 33)"
      ]
     },
     "execution_count": 100,
     "metadata": {},
     "output_type": "execute_result"
    }
   ],
   "source": []
  },
  {
   "cell_type": "code",
   "execution_count": 96,
   "metadata": {},
   "outputs": [],
   "source": []
  },
  {
   "cell_type": "code",
   "execution_count": 97,
   "metadata": {},
   "outputs": [
    {
     "name": "stdout",
     "output_type": "stream",
     "text": [
      "[0 1 2 3 4 5 6 7 8 9]\n"
     ]
    }
   ],
   "source": []
  },
  {
   "cell_type": "code",
   "execution_count": null,
   "metadata": {},
   "outputs": [],
   "source": []
  }
 ],
 "metadata": {
  "kernelspec": {
   "display_name": "Python 2",
   "language": "python",
   "name": "python2"
  },
  "language_info": {
   "codemirror_mode": {
    "name": "ipython",
    "version": 2
   },
   "file_extension": ".py",
   "mimetype": "text/x-python",
   "name": "python",
   "nbconvert_exporter": "python",
   "pygments_lexer": "ipython2",
   "version": "2.7.12"
  }
 },
 "nbformat": 4,
 "nbformat_minor": 2
}
