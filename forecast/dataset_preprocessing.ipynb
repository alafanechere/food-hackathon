{
 "cells": [
  {
   "cell_type": "markdown",
   "metadata": {},
   "source": [
    "##\n",
    "- HofKonditorei = home made patisserie\n",
    "- Trockenprodukte = dry product (ex. honey, jam, ...)\n",
    "- Non-food ex. Glass, PET\n",
    "- Erlebnis = Aventure (kids gardening)\n",
    "- Getranke = Drinks \n",
    "- Obst = fruit\n",
    "- HofChuchi = Home made meal\n",
    "- Frischprodukte = fresh product \n",
    "- HofBäckerei = home made bakery\n",
    "- Gemüse = vegetables\n",
    "\n"
   ]
  },
  {
   "cell_type": "code",
   "execution_count": 1,
   "metadata": {},
   "outputs": [],
   "source": [
    "import pandas as pd\n",
    "import numpy as np\n",
    "import time"
   ]
  },
  {
   "cell_type": "code",
   "execution_count": 2,
   "metadata": {},
   "outputs": [],
   "source": [
    "df_J = pd.read_csv('data/POS-data_Juckerhof.csv', sep=\";\", encoding='latin1')\n",
    "df_B = pd.read_csv('data/POS-data_Baechlihof.csv', sep=\";\", encoding='latin1')"
   ]
  },
  {
   "cell_type": "code",
   "execution_count": 3,
   "metadata": {},
   "outputs": [],
   "source": [
    "oneweek = 604800\n",
    "\n",
    "\n",
    "def last_week_price(df,x):\n",
    "    where = (df['timestamp'] > x - 2.*oneweek ) & (df['timestamp'] < x - oneweek)\n",
    "    return df['price'][where].sum()\n",
    "\n",
    "def last_month_price(df,x):\n",
    "    where = (df['wday'] == x[1])  & (df['timestamp'] > x[0] - 5*oneweek) & (df['timestamp'] < x[0] - 4*oneweek)\n",
    "    # print(where.shape)\n",
    "    return df['price'][where].sum()\n",
    "\n",
    "#df_J['last_week_price'] = df_J['timestamp'].apply(lambda x: last_week_price(df_J,x) )\n",
    "#df_B['last_week_price'] = df_B['timestamp'].apply(lambda x: last_week_price(df_B,x) )\n"
   ]
  },
  {
   "cell_type": "code",
   "execution_count": 4,
   "metadata": {},
   "outputs": [
    {
     "name": "stderr",
     "output_type": "stream",
     "text": [
      "/home/musella/.local/lib/python3.5/site-packages/pandas/core/computation/check.py:17: UserWarning: The installed version of numexpr 2.4.3 is not supported in pandas and will be not be used\n",
      "The minimum supported version is 2.4.6\n",
      "\n",
      "  ver=ver, min_ver=_MIN_NUMEXPR_VERSION), UserWarning)\n"
     ]
    }
   ],
   "source": [
    "# concatenate both datasets\n",
    "res = pd.concat([df_J, df_B])\n",
    "\n",
    "# addind dummy variables for time \n",
    "res['wday'] = res['timestamp'].apply(lambda x: time.gmtime(x).tm_wday) \n",
    "res['month'] = res['timestamp'].apply(lambda x: time.gmtime(x).tm_mon) \n",
    "res['hour'] = res['timestamp'].apply(lambda x: time.gmtime(x).tm_hour if time.gmtime(x).tm_min <= 30 else time.gmtime(x).tm_hour + 1)\n",
    "res['mday'] = res['timestamp'].apply(lambda x: time.gmtime(x).tm_mday) \n",
    "res['year'] = res['timestamp'].apply(lambda x: time.gmtime(x).tm_year)\n",
    "res['yday'] = res['timestamp'].apply(lambda x: time.gmtime(x).tm_yday)\n",
    "\n",
    "\n",
    "res['ratio_vat'] = res['vat_pos']/res['price']"
   ]
  },
  {
   "cell_type": "code",
   "execution_count": 5,
   "metadata": {},
   "outputs": [
    {
     "data": {
      "image/png": "[encoded data removed]",
      "text/plain": [
       "<matplotlib.figure.Figure at 0x7ff971e6bf28>"
      ]
     },
     "metadata": {},
     "output_type": "display_data"
    }
   ],
   "source": [
    "import matplotlib.pyplot as plt\n",
    "\n",
    "res['ratio_vat'].plot.hist()\n",
    "plt.show()"
   ]
  },
  {
   "cell_type": "code",
   "execution_count": 6,
   "metadata": {},
   "outputs": [],
   "source": [
    "#res['ratio_vat']\n",
    "res['is_resto'] = res['ratio_vat'] > 0.05\n",
    "# res['is_resto']\n",
    "\n",
    "split_by_vat = False"
   ]
  },
  {
   "cell_type": "markdown",
   "metadata": {},
   "source": []
  },
  {
   "cell_type": "code",
   "execution_count": 7,
   "metadata": {},
   "outputs": [],
   "source": [
    "df_m = pd.read_csv('data/weather-data.csv',sep=';')\n",
    "\n",
    "# df_m.col\n",
    "\n",
    "#  df_m['wday'] = df_m['date'].apply(lambda x: time.gmtime(x).tm_wday) \n",
    "df_m['month'] = df_m['date'].apply(lambda x: time.gmtime(x).tm_mon) \n",
    "df_m['hour'] = df_m['date'].apply(lambda x: time.gmtime(x).tm_hour if time.gmtime(x).tm_min <= 30 else time.gmtime(x).tm_hour + 1)\n",
    "# df_m['min'] = df_m['date'].apply(lambda x: time.gmtime(x).tm_min)\n",
    "\n",
    "df_m['mday'] = df_m['date'].apply(lambda x: time.gmtime(x).tm_mday) \n",
    "df_m['year'] = df_m['date'].apply(lambda x: time.gmtime(x).tm_year)\n",
    "\n"
   ]
  },
  {
   "cell_type": "code",
   "execution_count": 8,
   "metadata": {},
   "outputs": [],
   "source": [
    "# df_m['min']"
   ]
  },
  {
   "cell_type": "code",
   "execution_count": 9,
   "metadata": {},
   "outputs": [],
   "source": [
    "def plot_date(df):\n",
    "    df.mday.plot.hist(bins=31)\n",
    "    plt.figure()\n",
    "    df.hour.plot.hist(bins=24)\n",
    "    plt.figure()\n",
    "    if \"wday\" in df:\n",
    "        df.wday.plot.hist(bins=7)\n",
    "        plt.figure()\n",
    "    df.year.plot.hist(bins=7)\n",
    "    plt.figure()\n",
    "    print('unique mday',df.mday.unique())\n",
    "    print('unique hour',df.hour.unique())\n",
    "    if \"wday\" in df:\n",
    "        print('unique wday',df.wday.unique())\n",
    "    "
   ]
  },
  {
   "cell_type": "code",
   "execution_count": 10,
   "metadata": {},
   "outputs": [
    {
     "name": "stdout",
     "output_type": "stream",
     "text": [
      "unique mday [ 1  2  3  4  5  6  7  8  9 10 11 12 13 14 15 16 17 18 19 20 21 22 23 24\n",
      " 25 26 27 28 29 30 31]\n",
      "unique hour [ 0  1  2  3  4  5  6  7  8  9 10 11 12 13 14 15 16 17 18 19 20 21 22 23]\n"
     ]
    },
    {
     "data": {
      "image/png": "[encoded data removed]",
      "text/plain": [
       "<matplotlib.figure.Figure at 0x7ff940767d68>"
      ]
     },
     "metadata": {},
     "output_type": "display_data"
    },
    {
     "data": {
      "image/png": "[encoded data removed]",
      "text/plain": [
       "<matplotlib.figure.Figure at 0x7ff940767978>"
      ]
     },
     "metadata": {},
     "output_type": "display_data"
    },
    {
     "data": {
      "image/png": "[encoded data removed]",
      "text/plain": [
       "<matplotlib.figure.Figure at 0x7ff9407861d0>"
      ]
     },
     "metadata": {},
     "output_type": "display_data"
    },
    {
     "data": {
      "text/plain": [
       "<matplotlib.figure.Figure at 0x7ff9406e06a0>"
      ]
     },
     "metadata": {},
     "output_type": "display_data"
    }
   ],
   "source": [
    "plot_date(df_m)"
   ]
  },
  {
   "cell_type": "code",
   "execution_count": 11,
   "metadata": {},
   "outputs": [
    {
     "name": "stdout",
     "output_type": "stream",
     "text": [
      "unique mday [ 1  2  3  4  5  6  7  8  9 10 11 12 13 14 15 16 17 18 19 20 21 22 23 24\n",
      " 25 26 27 28 29 30 31]\n",
      "unique hour [ 8  9 10 11 12 13 14 15 16 17 18 23 19 24  0 20  7 21 22  1  2]\n",
      "unique wday [2 3 4 5 6 0 1]\n"
     ]
    },
    {
     "data": {
      "image/png": "[encoded data removed]",
      "text/plain": [
       "<matplotlib.figure.Figure at 0x7ff94290beb8>"
      ]
     },
     "metadata": {},
     "output_type": "display_data"
    },
    {
     "data": {
      "image/png": "[encoded data removed]",
      "text/plain": [
       "<matplotlib.figure.Figure at 0x7ff94290b940>"
      ]
     },
     "metadata": {},
     "output_type": "display_data"
    },
    {
     "data": {
      "image/png": "[encoded data removed]",
      "text/plain": [
       "<matplotlib.figure.Figure at 0x7ff93b24f320>"
      ]
     },
     "metadata": {},
     "output_type": "display_data"
    },
    {
     "data": {
      "image/png": "[encoded data removed]",
      "text/plain": [
       "<matplotlib.figure.Figure at 0x7ff93b1ff2b0>"
      ]
     },
     "metadata": {},
     "output_type": "display_data"
    },
    {
     "data": {
      "text/plain": [
       "<matplotlib.figure.Figure at 0x7ff93b1bf7b8>"
      ]
     },
     "metadata": {},
     "output_type": "display_data"
    }
   ],
   "source": [
    "plot_date(res)"
   ]
  },
  {
   "cell_type": "code",
   "execution_count": 12,
   "metadata": {},
   "outputs": [
    {
     "data": {
      "text/plain": [
       "array(['Mineral Personal', 'Eier gefärbt / gekocht', 'Brötli vom Hof',\n",
       "       ..., 'Rafzer Knoblauch mit Kräuter 200g',\n",
       "       'Loyalty Aufladung 1288607233979363',\n",
       "       'Loyalty Aufladung 1288607235900566'], dtype=object)"
      ]
     },
     "execution_count": 12,
     "metadata": {},
     "output_type": "execute_result"
    }
   ],
   "source": [
    "res.article.unique()"
   ]
  },
  {
   "cell_type": "code",
   "execution_count": 13,
   "metadata": {},
   "outputs": [],
   "source": [
    "res_w = pd.merge(res,df_m,on=['month','hour','mday','year'],how='left')"
   ]
  },
  {
   "cell_type": "code",
   "execution_count": 14,
   "metadata": {
    "scrolled": false
   },
   "outputs": [],
   "source": [
    "# res_w['shop'] = pd.get_dummies(res_w['shop'])['Juckerhof Bächlihof']"
   ]
  },
  {
   "cell_type": "code",
   "execution_count": 15,
   "metadata": {},
   "outputs": [],
   "source": [
    "index = ['shop','is_resto',#'article_group0',\n",
    "         'month','hour','mday','year',\n",
    "         ]\n",
    "\n",
    "if not split_by_vat:\n",
    "    index.pop(1)\n",
    "    \n",
    "grouby = []\n",
    "for col in index:\n",
    "    res_w[col+\"_idx\"] = res_w[col]\n",
    "    grouby.append(col+\"_idx\")"
   ]
  },
  {
   "cell_type": "code",
   "execution_count": 16,
   "metadata": {},
   "outputs": [],
   "source": [
    "gb = res_w.groupby(grouby)"
   ]
  },
  {
   "cell_type": "code",
   "execution_count": 17,
   "metadata": {
    "scrolled": false
   },
   "outputs": [],
   "source": [
    "# # gb['temperature'].isna().sum()\n",
    "# missing_meteo = res_w[res_w[ 'temperature' ].isna()]\n",
    "# missing_meteo.plot.scatter( 'month' , 'year')\n"
   ]
  },
  {
   "cell_type": "code",
   "execution_count": 18,
   "metadata": {},
   "outputs": [
    {
     "data": {
      "text/plain": [
       "Index(['date', 'temperature', 'precipitation', 'snowfraction',\n",
       "       'sealevelpressure', 'winddirection', 'windspeed', 'relativehumidity',\n",
       "       'sunshinetime', 'totalcloudcover', 'lowclouds', 'midclouds',\n",
       "       'highclouds', 'month', 'hour', 'mday', 'year'],\n",
       "      dtype='object')"
      ]
     },
     "execution_count": 18,
     "metadata": {},
     "output_type": "execute_result"
    }
   ],
   "source": [
    "# df_m.plot.scatter('month','yeardf_m\n",
    "df_m.columns"
   ]
  },
  {
   "cell_type": "code",
   "execution_count": 33,
   "metadata": {},
   "outputs": [],
   "source": [
    "# df_m[ (df_m.year == 2018) & (df_m.month == 1) ].mday.hist()\n",
    "\n",
    "features = ['temperature', 'precipitation', 'snowfraction',\n",
    "       'sealevelpressure', 'winddirection', 'windspeed', 'relativehumidity',\n",
    "       'sunshinetime', 'totalcloudcover', 'lowclouds', 'midclouds',\n",
    "       'highclouds', 'wday', 'month', 'hour', 'mday', 'year','timestamp', ] + index\n",
    "\n",
    "if not split_by_vat:\n",
    "    features.append('is_resto')"
   ]
  },
  {
   "cell_type": "code",
   "execution_count": 34,
   "metadata": {
    "scrolled": false
   },
   "outputs": [],
   "source": [
    "df_features = gb[features].mean()"
   ]
  },
  {
   "cell_type": "code",
   "execution_count": 35,
   "metadata": {
    "scrolled": false
   },
   "outputs": [],
   "source": [
    "df_features['price'] = gb['price'].sum()\n",
    "df_features['count'] = gb['count'].sum()\n"
   ]
  },
  {
   "cell_type": "code",
   "execution_count": 36,
   "metadata": {},
   "outputs": [],
   "source": [
    "df_features['n_transactions'] = gb['transaction_id'].unique().apply(lambda x: len(x))"
   ]
  },
  {
   "cell_type": "code",
   "execution_count": 37,
   "metadata": {},
   "outputs": [],
   "source": [
    "# res_w['shop'].unique()"
   ]
  },
  {
   "cell_type": "code",
   "execution_count": 38,
   "metadata": {},
   "outputs": [
    {
     "data": {
      "text/plain": [
       "Index(['Juckerhof Bächlihof', 'Juckerhof Seegräben'], dtype='object', name='shop_idx')"
      ]
     },
     "execution_count": 38,
     "metadata": {},
     "output_type": "execute_result"
    }
   ],
   "source": [
    "df_features.index.levels[0]"
   ]
  },
  {
   "cell_type": "code",
   "execution_count": 39,
   "metadata": {
    "scrolled": false
   },
   "outputs": [],
   "source": [
    "shop1 = df_features.loc['Juckerhof Bächlihof']\n",
    "shop2 = df_features.loc['Juckerhof Seegräben']\n",
    "\n",
    "\n",
    "if split_by_vat:\n",
    "    shop1_resto = shop1.loc[True]\n",
    "    shop1_shop = shop1.loc[False]\n",
    "\n",
    "    shop2_resto = shop2.loc[True]\n",
    "    shop2_shop = shop2.loc[False]\n"
   ]
  },
  {
   "cell_type": "code",
   "execution_count": 40,
   "metadata": {
    "scrolled": false
   },
   "outputs": [],
   "source": [
    "# # oneweek = 604800\n",
    "\n",
    "if split_by_vat:\n",
    "    shop1_resto_month_avg = shop1_resto[['timestamp','wday']].apply( lambda x: last_month_price(shop1_resto,x), raw=True, axis=1   )\n",
    "    shop1_resto_week_avg = shop1_resto['timestamp'].apply( lambda x: last_week_price(shop1_resto,x)   )\n",
    "\n",
    "    shop1_shop_month_avg = shop1_resto[['timestamp','wday']].apply( lambda x: last_month_price(shop1_shop,x), raw=True, axis=1   )\n",
    "    shop1_shop_week_avg = shop1_resto['timestamp'].apply( lambda x: last_week_price(shop1_shop,x)   )\n",
    "\n",
    "else:\n",
    "    shop1_month_avg = shop1[['timestamp','wday']].apply( lambda x: last_month_price(shop1,x), raw=True, axis=1   )\n",
    "    shop1_week_avg = shop1['timestamp'].apply( lambda x: last_week_price(shop1,x)   )\n",
    "    "
   ]
  },
  {
   "cell_type": "code",
   "execution_count": 41,
   "metadata": {},
   "outputs": [],
   "source": [
    "# # oneweek = 604800\n",
    "\n",
    "if split_by_vat:\n",
    "    shop2_resto_month_avg = shop2_resto[['timestamp','wday']].apply( lambda x: last_month_price(shop2_resto,x), raw=True, axis=1   )\n",
    "    shop2_resto_week_avg = shop2_resto['timestamp'].apply( lambda x: last_week_price(shop2_resto,x)   )\n",
    "\n",
    "    shop2_shop_month_avg = shop2_resto[['timestamp','wday']].apply( lambda x: last_month_price(shop2_shop,x), raw=True, axis=1   )\n",
    "    shop2_shop_week_avg = shop2_resto['timestamp'].apply( lambda x: last_week_price(shop2_shop,x)   )\n",
    "    \n",
    "else:\n",
    "    shop2_month_avg = shop2[['timestamp','wday']].apply( lambda x: last_month_price(shop2,x), raw=True, axis=1   )\n",
    "    shop2_week_avg = shop2['timestamp'].apply( lambda x: last_week_price(shop2,x)   )\n",
    "\n",
    "    "
   ]
  },
  {
   "cell_type": "code",
   "execution_count": 42,
   "metadata": {},
   "outputs": [
    {
     "name": "stderr",
     "output_type": "stream",
     "text": [
      "/home/musella/.local/lib/python3.5/site-packages/ipykernel_launcher.py:9: SettingWithCopyWarning: \n",
      "A value is trying to be set on a copy of a slice from a DataFrame.\n",
      "Try using .loc[row_indexer,col_indexer] = value instead\n",
      "\n",
      "See the caveats in the documentation: http://pandas.pydata.org/pandas-docs/stable/indexing.html#indexing-view-versus-copy\n",
      "  if __name__ == '__main__':\n",
      "/home/musella/.local/lib/python3.5/site-packages/ipykernel_launcher.py:10: SettingWithCopyWarning: \n",
      "A value is trying to be set on a copy of a slice from a DataFrame.\n",
      "Try using .loc[row_indexer,col_indexer] = value instead\n",
      "\n",
      "See the caveats in the documentation: http://pandas.pydata.org/pandas-docs/stable/indexing.html#indexing-view-versus-copy\n",
      "  # Remove the CWD from sys.path while we load stuff.\n"
     ]
    }
   ],
   "source": [
    "if split_by_vat:\n",
    "    shop1_resto['last_week_price'] = shop1_resto_week_avg\n",
    "    shop1_resto['last_month_price'] = shop1_resto_week_avg \n",
    "\n",
    "    shop1_shop['last_week_price'] = shop1_shop_week_avg\n",
    "    shop1_shop['last_month_price'] = shop1_shop_week_avg \n",
    "    \n",
    "else:\n",
    "    shop1['last_week_price'] = shop1_week_avg\n",
    "    shop1['last_month_price'] = shop1_week_avg \n",
    "    \n",
    "\n"
   ]
  },
  {
   "cell_type": "code",
   "execution_count": 43,
   "metadata": {},
   "outputs": [
    {
     "name": "stderr",
     "output_type": "stream",
     "text": [
      "/home/musella/.local/lib/python3.5/site-packages/ipykernel_launcher.py:9: SettingWithCopyWarning: \n",
      "A value is trying to be set on a copy of a slice from a DataFrame.\n",
      "Try using .loc[row_indexer,col_indexer] = value instead\n",
      "\n",
      "See the caveats in the documentation: http://pandas.pydata.org/pandas-docs/stable/indexing.html#indexing-view-versus-copy\n",
      "  if __name__ == '__main__':\n",
      "/home/musella/.local/lib/python3.5/site-packages/ipykernel_launcher.py:10: SettingWithCopyWarning: \n",
      "A value is trying to be set on a copy of a slice from a DataFrame.\n",
      "Try using .loc[row_indexer,col_indexer] = value instead\n",
      "\n",
      "See the caveats in the documentation: http://pandas.pydata.org/pandas-docs/stable/indexing.html#indexing-view-versus-copy\n",
      "  # Remove the CWD from sys.path while we load stuff.\n"
     ]
    }
   ],
   "source": [
    "if split_by_vat:\n",
    "    shop2_resto['last_week_price'] = shop2_resto_week_avg\n",
    "    shop2_resto['last_month_price'] = shop2_resto_week_avg \n",
    "\n",
    "    shop2_shop['last_week_price'] = shop2_shop_week_avg\n",
    "    shop2_shop['last_month_price'] = shop2_shop_week_avg \n",
    "\n",
    "else:\n",
    "    shop2['last_week_price'] = shop2_week_avg\n",
    "    shop2['last_month_price'] = shop2_week_avg \n",
    "    "
   ]
  },
  {
   "cell_type": "code",
   "execution_count": 44,
   "metadata": {},
   "outputs": [],
   "source": [
    "# df_features2 = np.concatenate([shop1,shop2])"
   ]
  },
  {
   "cell_type": "code",
   "execution_count": 45,
   "metadata": {},
   "outputs": [],
   "source": [
    "if split_by_vat:\n",
    "    shop1_resto['is_resto'] = True\n",
    "    shop2_resto['is_resto'] = True\n",
    "\n",
    "    shop1_shop['is_resto'] = False\n",
    "    shop2_shop['is_resto'] = False\n",
    "\n",
    "\n",
    "    shop1_resto.to_csv('shop1_resto_v3.csv')\n",
    "    shop2_resto.to_csv('shop2_resto_v3.csv')\n",
    "\n",
    "\n",
    "    shop1_shop.to_csv('shop1_shop_v3.csv')\n",
    "    shop2_shop.to_csv('shop2_shop_v3.csv')\n",
    "\n",
    "else:\n",
    "    shop1.to_csv('shop1_v3.csv')\n",
    "    shop2.to_csv('shop2_v3.csv')\n",
    "    \n",
    "    "
   ]
  },
  {
   "cell_type": "code",
   "execution_count": null,
   "metadata": {},
   "outputs": [],
   "source": [
    "# pd.concat( [shop1_resto,shop1_shop] ).to_csv(\"shop1_v2.csv\")\n",
    "# pd.concat( [shop2_resto,shop2_shop] ).to_csv(\"shop2_v2.csv\")"
   ]
  },
  {
   "cell_type": "code",
   "execution_count": null,
   "metadata": {},
   "outputs": [],
   "source": []
  }
 ],
 "metadata": {
  "kernelspec": {
   "display_name": "Python 2",
   "language": "python",
   "name": "python2"
  },
  "language_info": {
   "codemirror_mode": {
    "name": "ipython",
    "version": 3
   },
   "file_extension": ".py",
   "mimetype": "text/x-python",
   "name": "python",
   "nbconvert_exporter": "python",
   "pygments_lexer": "ipython3",
   "version": "3.5.2"
  }
 },
 "nbformat": 4,
 "nbformat_minor": 2
}
