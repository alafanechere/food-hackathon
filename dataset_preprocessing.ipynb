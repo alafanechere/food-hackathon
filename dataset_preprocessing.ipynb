{
 "cells": [
  {
   "cell_type": "markdown",
   "metadata": {},
   "source": [
    "##\n",
    "- HofKonditorei = home made patisserie\n",
    "- Trockenprodukte = dry product (ex. honey, jam, ...)\n",
    "- Non-food ex. Glass, PET\n",
    "- Erlebnis = Aventure (kids gardening)\n",
    "- Getranke = Drinks \n",
    "- Obst = fruit\n",
    "- HofChuchi = Home made meal\n",
    "- Frischprodukte = fresh product \n",
    "- HofBäckerei = home made bakery\n",
    "- Gemüse = vegetables\n",
    "\n"
   ]
  },
  {
   "cell_type": "code",
   "execution_count": 60,
   "metadata": {},
   "outputs": [],
   "source": [
    "import pandas as pd\n",
    "import numpy as np\n",
    "import time"
   ]
  },
  {
   "cell_type": "code",
   "execution_count": 61,
   "metadata": {},
   "outputs": [],
   "source": [
    "df_J = pd.read_csv('POS-data_Juckerhof.csv', sep=\";\", encoding='latin1')\n",
    "df_B = pd.read_csv('POS-data_Baechlihof.csv', sep=\";\", encoding='latin1')\n",
    "\n",
    "# concatenate both datasets\n",
    "res = pd.concat([df_J, df_B])\n",
    "\n",
    "# addind dummy variables for time \n",
    "res['wday'] = res['timestamp'].apply(lambda x: time.gmtime(x).tm_wday) \n",
    "res['month'] = res['timestamp'].apply(lambda x: time.gmtime(x).tm_mon) \n",
    "res['hour'] = res['timestamp'].apply(lambda x: time.gmtime(x).tm_hour if time.gmtime(x).tm_min <= 30 else time.gmtime(x).tm_hour + 1)\n",
    "res['mday'] = res['timestamp'].apply(lambda x: time.gmtime(x).tm_mday) \n",
    "\n"
   ]
  },
  {
   "cell_type": "markdown",
   "metadata": {},
   "source": []
  }
 ],
 "metadata": {
  "kernelspec": {
   "display_name": "Python 2",
   "language": "python",
   "name": "python2"
  },
  "language_info": {
   "codemirror_mode": {
    "name": "ipython",
    "version": 2
   },
   "file_extension": ".py",
   "mimetype": "text/x-python",
   "name": "python",
   "nbconvert_exporter": "python",
   "pygments_lexer": "ipython2",
   "version": "2.7.12"
  }
 },
 "nbformat": 4,
 "nbformat_minor": 2
}
